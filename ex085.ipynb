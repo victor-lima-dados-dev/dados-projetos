{
 "cells": [
  {
   "cell_type": "code",
   "execution_count": 5,
   "metadata": {},
   "outputs": [
    {
     "name": "stdout",
     "output_type": "stream",
     "text": [
      "=-=-=-=-=-=-=-=-=-=-=-=-=-=-=-=-=-=-=-=-=-=-=-=-=-=-=-=-=-=-=-=-=-=-=-=-=-=-=-=-\n",
      "Os valores digitados foram: [[8, 54, 54, 86, 96, 634], [1]]\n",
      "Os valores pares são: [8, 54, 54, 86, 96, 634]\n",
      "Os valores impares são: [1]\n"
     ]
    }
   ],
   "source": [
    "num = [[], []]\n",
    "valor = 0\n",
    "for c in range(0, 7):\n",
    "    valor = int(input(f\"Digite o {c}º número: \"))\n",
    "    if valor % 2 == 0:\n",
    "        num[0].append(valor)\n",
    "    else:\n",
    "        num[1].append(valor)\n",
    "print(\"=-\" * 40)\n",
    "num[0].sort()\n",
    "num[1].sort()\n",
    "print(f\"Os valores digitados foram: {num}\")\n",
    "print(f\"Os valores pares são: {num[0]}\")\n",
    "print(f\"Os valores impares são: {num[1]}\")\n"
   ]
  }
 ],
 "metadata": {
  "kernelspec": {
   "display_name": "Python 3",
   "language": "python",
   "name": "python3"
  },
  "language_info": {
   "codemirror_mode": {
    "name": "ipython",
    "version": 3
   },
   "file_extension": ".py",
   "mimetype": "text/x-python",
   "name": "python",
   "nbconvert_exporter": "python",
   "pygments_lexer": "ipython3",
   "version": "3.12.2"
  }
 },
 "nbformat": 4,
 "nbformat_minor": 2
}
