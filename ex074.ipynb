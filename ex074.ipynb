{
 "cells": [
  {
   "cell_type": "code",
   "execution_count": 5,
   "metadata": {},
   "outputs": [
    {
     "name": "stdout",
     "output_type": "stream",
     "text": [
      "Os valores sorteados foram: (9, 10, 1, 2, 1, 4)9101214\n",
      "O maior sorteado foi 10\n",
      "O menor valor sorteado 1\n"
     ]
    }
   ],
   "source": [
    "from random import randint\n",
    "\n",
    "num = (\n",
    "    randint(1, 10),\n",
    "    randint(1, 10),\n",
    "    randint(1, 10),\n",
    "    randint(1, 10),\n",
    "    randint(1, 10),\n",
    "    randint(1, 10),\n",
    ")\n",
    "print(f\"Os valores sorteados foram: {num}\", end=\"\")\n",
    "\n",
    "for n in num:\n",
    "    print(f\"{n}\", end=\"\")\n",
    "print(f\"\\nO maior sorteado foi {max(num)}\")\n",
    "print(f\"O menor valor sorteado {min(num)}\")\n"
   ]
  },
  {
   "cell_type": "code",
   "execution_count": null,
   "metadata": {},
   "outputs": [],
   "source": []
  }
 ],
 "metadata": {
  "kernelspec": {
   "display_name": "Python 3",
   "language": "python",
   "name": "python3"
  },
  "language_info": {
   "codemirror_mode": {
    "name": "ipython",
    "version": 3
   },
   "file_extension": ".py",
   "mimetype": "text/x-python",
   "name": "python",
   "nbconvert_exporter": "python",
   "pygments_lexer": "ipython3",
   "version": "3.12.2"
  }
 },
 "nbformat": 4,
 "nbformat_minor": 2
}
