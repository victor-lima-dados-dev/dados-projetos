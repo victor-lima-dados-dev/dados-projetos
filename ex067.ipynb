{
 "cells": [
  {
   "cell_type": "code",
   "execution_count": 2,
   "metadata": {},
   "outputs": [
    {
     "name": "stdout",
     "output_type": "stream",
     "text": [
      "A quantidade de números digitados foi de 5 e a soma entre eles é de 10 \n"
     ]
    }
   ],
   "source": [
    "s = c = 0\n",
    "while True:\n",
    "    n = int(input(\"Digite um número: \"))\n",
    "    if n == 999:\n",
    "        break\n",
    "    c += 1\n",
    "    s += n\n",
    "print(f\"A quantidade de números digitados foi de {c} e a soma entre eles é de {s} \")\n"
   ]
  }
 ],
 "metadata": {
  "kernelspec": {
   "display_name": "Python 3",
   "language": "python",
   "name": "python3"
  },
  "language_info": {
   "codemirror_mode": {
    "name": "ipython",
    "version": 3
   },
   "file_extension": ".py",
   "mimetype": "text/x-python",
   "name": "python",
   "nbconvert_exporter": "python",
   "pygments_lexer": "ipython3",
   "version": "3.12.2"
  }
 },
 "nbformat": 4,
 "nbformat_minor": 2
}
