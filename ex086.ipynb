{
 "cells": [
  {
   "cell_type": "code",
   "execution_count": 2,
   "metadata": {},
   "outputs": [
    {
     "name": "stdout",
     "output_type": "stream",
     "text": [
      "=-=-=-=-=-=-=-=-=-=-=-=-=-=-=-=-=-=-=-=-=-=-=-=-=-=-=-=-=-=-=-=-=-=-=-=-=-=-=-=-\n",
      "[  1  ][  5  ][  6  ]\n",
      "[  4  ][  8  ][  6  ]\n",
      "[  2  ][  5  ][  5  ]\n"
     ]
    }
   ],
   "source": [
    "matriz = [[0, 0, 0], [0, 0, 0], [0, 0, 0]]\n",
    "for l in range(0, 3):\n",
    "    for c in range(0, 3):\n",
    "        matriz[l][c] = int(input(f\"Digite um valor para [{l}, {c}]: \"))\n",
    "print(\"=-\" * 40)\n",
    "for l in range(0, 3):\n",
    "    for c in range(0, 3):\n",
    "        print(f\"[{matriz[l][c]:^5}]\", end=\"\")\n",
    "    print()\n"
   ]
  }
 ],
 "metadata": {
  "kernelspec": {
   "display_name": "Python 3",
   "language": "python",
   "name": "python3"
  },
  "language_info": {
   "codemirror_mode": {
    "name": "ipython",
    "version": 3
   },
   "file_extension": ".py",
   "mimetype": "text/x-python",
   "name": "python",
   "nbconvert_exporter": "python",
   "pygments_lexer": "ipython3",
   "version": "3.12.2"
  }
 },
 "nbformat": 4,
 "nbformat_minor": 2
}
