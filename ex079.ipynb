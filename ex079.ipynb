{
 "cells": [
  {
   "cell_type": "code",
   "execution_count": 1,
   "metadata": {},
   "outputs": [
    {
     "name": "stdout",
     "output_type": "stream",
     "text": [
      "Valor adicionado com sucesso...\n",
      "Valor adicionado com sucesso...\n",
      "Valor duplicado! Não é possível adicionar!\n",
      "================================================================================\n",
      "Você digitou os valores [2, 8]\n"
     ]
    }
   ],
   "source": [
    "num = list()\n",
    "while True:\n",
    "    n = int(input(\"Digite um valor: \"))\n",
    "    if n not in num:\n",
    "        num.append(n)\n",
    "        print(\"Valor adicionado com sucesso...\")\n",
    "    else:\n",
    "        print(\"Valor duplicado! Não é possível adicionar!\")\n",
    "    r = str(input(\"Quer continuar? [S/N] \")).strip().upper()[0]\n",
    "    if r in \"Nn\":\n",
    "        break\n",
    "print(\"==\" * 40)\n",
    "num.sort()\n",
    "print(f\"Você digitou os valores {num}\")\n"
   ]
  }
 ],
 "metadata": {
  "kernelspec": {
   "display_name": "Python 3",
   "language": "python",
   "name": "python3"
  },
  "language_info": {
   "codemirror_mode": {
    "name": "ipython",
    "version": 3
   },
   "file_extension": ".py",
   "mimetype": "text/x-python",
   "name": "python",
   "nbconvert_exporter": "python",
   "pygments_lexer": "ipython3",
   "version": "3.12.2"
  }
 },
 "nbformat": 4,
 "nbformat_minor": 2
}
