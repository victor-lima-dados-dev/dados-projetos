{
 "cells": [
  {
   "cell_type": "code",
   "execution_count": 5,
   "metadata": {},
   "outputs": [
    {
     "name": "stdout",
     "output_type": "stream",
     "text": [
      "=-=-=-=-=-=-=-=-=-=-=-=-=-=-=-=-=-=-=-=-\n",
      "-- nome é igual a Maria\n",
      "-- nota é igual a 5.7\n",
      "-- situação é igual a Recuperação\n"
     ]
    }
   ],
   "source": [
    "aluno = dict()\n",
    "\n",
    "aluno[\"nome\"] = str(input(\"Digite o nome do aluno: \"))\n",
    "aluno[\"nota\"] = float(input(f'Média do {aluno[\"nome\"]}: '))\n",
    "if aluno[\"nota\"] >= 7:\n",
    "    aluno[\"situação\"] = \"Aprovado\"\n",
    "elif 5 <= aluno[\"nota\"] < 7:\n",
    "    aluno[\"situação\"] = \"Recuperação\"\n",
    "else:\n",
    "    aluno[\"situação\"] = \"Reprovado\"\n",
    "print(\"=-\" * 20)\n",
    "for n, m in aluno.items():\n",
    "    print(f\"-- {n} é igual a {m}\")"
   ]
  }
 ],
 "metadata": {
  "kernelspec": {
   "display_name": "Python 3",
   "language": "python",
   "name": "python3"
  },
  "language_info": {
   "codemirror_mode": {
    "name": "ipython",
    "version": 3
   },
   "file_extension": ".py",
   "mimetype": "text/x-python",
   "name": "python",
   "nbconvert_exporter": "python",
   "pygments_lexer": "ipython3",
   "version": "3.12.2"
  }
 },
 "nbformat": 4,
 "nbformat_minor": 2
}
