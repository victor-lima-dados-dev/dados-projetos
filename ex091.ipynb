{
 "cells": [
  {
   "cell_type": "code",
   "execution_count": 8,
   "metadata": {},
   "outputs": [
    {
     "name": "stdout",
     "output_type": "stream",
     "text": [
      "Valores sorteados:\n",
      "jogador1 tirou 1 no dado.\n",
      "jogador2 tirou 5 no dado.\n",
      "jogador3 tirou 2 no dado.\n",
      "jogador4 tirou 5 no dado.\n",
      "==================== Ranking dos Jogadores ====================\n",
      "1º lugar: jogador2 com 5.\n",
      "2º lugar: jogador4 com 5.\n",
      "3º lugar: jogador3 com 2.\n",
      "4º lugar: jogador1 com 1.\n"
     ]
    }
   ],
   "source": [
    "from random import randint\n",
    "from time import sleep\n",
    "from operator import itemgetter\n",
    "jogo = {'jogador1': randint(1, 6),\n",
    "        'jogador2': randint(1, 6),\n",
    "        'jogador3': randint(1, 6),\n",
    "        'jogador4': randint(1, 6)        \n",
    "        }\n",
    "ranking = {}\n",
    "print('Valores sorteados:')\n",
    "for k, v in jogo.items():\n",
    "    print(f'{k} tirou {v} no dado.')\n",
    "    sleep(0.5)\n",
    "ranking = sorted(jogo.items(), key=itemgetter(1), reverse=True)\n",
    "print('=='*10, 'Ranking dos Jogadores', '=='*10)\n",
    "\n",
    "for i, v in enumerate(ranking):\n",
    "    print(f'{i+1}º lugar: {v[0]} com {v[1]}.')\n",
    "    sleep(1)"
   ]
  },
  {
   "cell_type": "code",
   "execution_count": null,
   "metadata": {},
   "outputs": [],
   "source": []
  }
 ],
 "metadata": {
  "kernelspec": {
   "display_name": "Python 3",
   "language": "python",
   "name": "python3"
  },
  "language_info": {
   "codemirror_mode": {
    "name": "ipython",
    "version": 3
   },
   "file_extension": ".py",
   "mimetype": "text/x-python",
   "name": "python",
   "nbconvert_exporter": "python",
   "pygments_lexer": "ipython3",
   "version": "3.12.2"
  }
 },
 "nbformat": 4,
 "nbformat_minor": 2
}
