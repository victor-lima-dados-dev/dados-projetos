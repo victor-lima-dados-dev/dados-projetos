{
 "cells": [
  {
   "cell_type": "code",
   "execution_count": 3,
   "metadata": {},
   "outputs": [
    {
     "name": "stdout",
     "output_type": "stream",
     "text": [
      "==============================\n",
      "          BANCO CEV           \n",
      "==============================\n",
      "Total de 6 cédulas de R$50\n",
      "Total de 2 cédulas de R$20\n",
      "==============================\n",
      "Volte sempre ao BANCO CEV\n",
      "==============================\n"
     ]
    }
   ],
   "source": [
    "print(\"==\" * 15)\n",
    "print(\"{:^30}\".format(\"BANCO CEV\"))\n",
    "print(\"==\" * 15)\n",
    "valor = int(input(\"Qual o valor do saque? R$\"))\n",
    "tot = valor\n",
    "ced = 50\n",
    "totced = 0\n",
    "while True:\n",
    "    if tot >= ced:\n",
    "        tot -= ced\n",
    "        totced += 1\n",
    "    else:\n",
    "        if totced > 0:\n",
    "            print(f\"Total de {totced} cédulas de R${ced}\")\n",
    "        if ced == 50:\n",
    "            ced = 20\n",
    "        elif ced == 20:\n",
    "            ced == 10\n",
    "        elif ced == 10:\n",
    "            ced = 5\n",
    "        elif ced == 5:\n",
    "            ced = 1\n",
    "        totced = 0\n",
    "        if tot == 0:\n",
    "            break\n",
    "print(\"=\" * 30)\n",
    "print(\"Volte sempre ao BANCO CEV\")\n",
    "print(\"=\" * 30)\n"
   ]
  }
 ],
 "metadata": {
  "kernelspec": {
   "display_name": "Python 3",
   "language": "python",
   "name": "python3"
  },
  "language_info": {
   "codemirror_mode": {
    "name": "ipython",
    "version": 3
   },
   "file_extension": ".py",
   "mimetype": "text/x-python",
   "name": "python",
   "nbconvert_exporter": "python",
   "pygments_lexer": "ipython3",
   "version": "3.12.2"
  }
 },
 "nbformat": 4,
 "nbformat_minor": 2
}
