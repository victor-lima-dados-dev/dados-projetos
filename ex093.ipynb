{
 "cells": [
  {
   "cell_type": "code",
   "execution_count": 6,
   "metadata": {},
   "outputs": [
    {
     "name": "stdout",
     "output_type": "stream",
     "text": [
      "------------------------------------------------------------\n",
      "{'nome': 'Rodrigo', 'gols': [3, 4], 'total': 7}\n",
      "------------------------------------------------------------\n",
      "O campo nome tem o valor Rodrigo\n",
      "O campo gols tem o valor [3, 4]\n",
      "O campo total tem o valor 7\n",
      "------------------------------------------------------------\n",
      "O jogador Rodrigo jogou 2 partidas.\n",
      " => na partida 0 fez 3 gols\n",
      " => na partida 1 fez 4 gols\n",
      "Foi um total 7 gols\n"
     ]
    }
   ],
   "source": [
    "jogador = dict()\n",
    "partidas = list()\n",
    "jogador['nome'] = str(input('Nome do Jogador: '))\n",
    "tot = int(input(f'Quantas partidas {jogador[\"nome\"]} jogou? '))\n",
    "for c in range(0, tot):\n",
    "    partidas.append(int(input(f' Quantos gols na partida {c}? ')))\n",
    "jogador['gols'] = partidas[:]\n",
    "jogador['total'] = sum(partidas)\n",
    "print('--'*30)\n",
    "print(jogador)\n",
    "print('--'*30)\n",
    "for k, v in jogador.items():\n",
    "    print(f'O campo {k} tem o valor {v}')\n",
    "print('--'*30)\n",
    "print(f'O jogador {jogador[\"nome\"]} jogou {len(jogador[\"gols\"])} partidas.')\n",
    "for i, v in enumerate(jogador['gols']):\n",
    "    print(f' => na partida {i} fez {v} gols')\n",
    "print(f'Foi um total {jogador[\"total\"]} gols')"
   ]
  }
 ],
 "metadata": {
  "kernelspec": {
   "display_name": "Python 3",
   "language": "python",
   "name": "python3"
  },
  "language_info": {
   "codemirror_mode": {
    "name": "ipython",
    "version": 3
   },
   "file_extension": ".py",
   "mimetype": "text/x-python",
   "name": "python",
   "nbconvert_exporter": "python",
   "pygments_lexer": "ipython3",
   "version": "3.12.2"
  }
 },
 "nbformat": 4,
 "nbformat_minor": 2
}
