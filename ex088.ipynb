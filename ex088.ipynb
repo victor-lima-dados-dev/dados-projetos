{
 "cells": [
  {
   "cell_type": "code",
   "execution_count": 16,
   "metadata": {},
   "outputs": [
    {
     "name": "stdout",
     "output_type": "stream",
     "text": [
      "==============================\n",
      "       Jogo da Megacena       \n",
      "==============================\n",
      "=-=-=- SORTEANDO 5 JOGOS =-=-=-\n",
      "Jogo 1: [23, 29, 36, 40, 50, 51]\n",
      "Jogo 2: [17, 18, 21, 26, 38, 53]\n",
      "Jogo 3: [17, 20, 26, 28, 31, 49]\n",
      "Jogo 4: [8, 22, 26, 34, 43, 44]\n",
      "Jogo 5: [9, 37, 44, 48, 50, 56]\n",
      "=-=-=-=-=-  < Boa sorte! >  -=-=-=-=-=\n"
     ]
    }
   ],
   "source": [
    "from random import randint\n",
    "from time import sleep\n",
    "\n",
    "lista = list()\n",
    "jogos = list()\n",
    "print(\"==\" * 15)\n",
    "print(\"       Jogo da Megacena       \")\n",
    "print(\"==\" * 15)\n",
    "quant = int(input(\"Quantos números você quer que eu sorteie? \"))\n",
    "tot = 1\n",
    "while tot <= quant:\n",
    "    cont = 0\n",
    "    while True:\n",
    "        num = randint(1, 60)\n",
    "        if num not in lista:\n",
    "            lista.append(num)\n",
    "            cont += 1\n",
    "        if cont >= 6:\n",
    "            break\n",
    "    lista.sort()\n",
    "    jogos.append(lista[:])\n",
    "    lista.clear()\n",
    "    tot += 1\n",
    "print(\"=-\" * 3, f\"SORTEANDO {quant} JOGOS\", \"=-\" * 3)\n",
    "for i, l in enumerate(jogos):\n",
    "    print(f\"Jogo {i+1}: {l}\")\n",
    "    sleep(1)\n",
    "print(\"=-\" * 5, \" < Boa sorte! > \", \"-=\" * 5)\n"
   ]
  }
 ],
 "metadata": {
  "kernelspec": {
   "display_name": "Python 3",
   "language": "python",
   "name": "python3"
  },
  "language_info": {
   "codemirror_mode": {
    "name": "ipython",
    "version": 3
   },
   "file_extension": ".py",
   "mimetype": "text/x-python",
   "name": "python",
   "nbconvert_exporter": "python",
   "pygments_lexer": "ipython3",
   "version": "3.12.2"
  }
 },
 "nbformat": 4,
 "nbformat_minor": 2
}
