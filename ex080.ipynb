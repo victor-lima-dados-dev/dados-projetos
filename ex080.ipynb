{
 "cells": [
  {
   "cell_type": "code",
   "execution_count": 2,
   "metadata": {},
   "outputs": [
    {
     "name": "stdout",
     "output_type": "stream",
     "text": [
      "================================================================================\n",
      "Os valores digitados em ordem foram [0, 1, 2, 3, 4]\n"
     ]
    }
   ],
   "source": [
    "lista = []\n",
    "\n",
    "for n in range(0, 5):\n",
    "    num = int(input(\"Digite um valor: \"))\n",
    "    if n == 0 or n > lista[-1]:\n",
    "        lista.append(n)\n",
    "    else:\n",
    "        pos = 0\n",
    "        while pos < len(lista):\n",
    "            if n <= lista[pos]:\n",
    "                lista.insert(pos, n)\n",
    "                break\n",
    "        pos += 1\n",
    "print(\"==\" * 40)\n",
    "print(f\"Os valores digitados em ordem foram {lista}\")\n"
   ]
  }
 ],
 "metadata": {
  "kernelspec": {
   "display_name": "Python 3",
   "language": "python",
   "name": "python3"
  },
  "language_info": {
   "codemirror_mode": {
    "name": "ipython",
    "version": 3
   },
   "file_extension": ".py",
   "mimetype": "text/x-python",
   "name": "python",
   "nbconvert_exporter": "python",
   "pygments_lexer": "ipython3",
   "version": "3.12.2"
  }
 },
 "nbformat": 4,
 "nbformat_minor": 2
}
