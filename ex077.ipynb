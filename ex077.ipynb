{
 "cells": [
  {
   "cell_type": "code",
   "execution_count": 7,
   "metadata": {},
   "outputs": [
    {
     "name": "stdout",
     "output_type": "stream",
     "text": [
      "\n",
      "Na palavra APRENDER temos\n",
      "a e e \n",
      "Na palavra PROGRAMAR temos\n",
      "o a a \n",
      "Na palavra LINGUAGEM temos\n",
      "i u a e \n",
      "Na palavra PYTHON temos\n",
      "o \n",
      "Na palavra CURSO temos\n",
      "u o \n",
      "Na palavra GRATIS temos\n",
      "a i \n",
      "Na palavra ESTUDAR temos\n",
      "e u a \n",
      "Na palavra PRATICAR temos\n",
      "a i a \n",
      "Na palavra TRABALHAR temos\n",
      "a a a \n",
      "Na palavra MERCADO temos\n",
      "e a o \n",
      "Na palavra PROGRAMADOR temos\n",
      "o a a o \n",
      "Na palavra FUTURO temos\n",
      "u u o "
     ]
    }
   ],
   "source": [
    "palavras = (\n",
    "    \"aprender\",\n",
    "    \"programar\",\n",
    "    \"linguagem\",\n",
    "    \"python\",\n",
    "    \"curso\",\n",
    "    \"gratis\",\n",
    "    \"estudar\",\n",
    "    \"praticar\",\n",
    "    \"trabalhar\",\n",
    "    \"mercado\",\n",
    "    \"programador\",\n",
    "    \"futuro\",\n",
    ")\n",
    "for p in palavras:\n",
    "    print(f\"\\nNa palavra {p.upper()} temos\")\n",
    "    for letra in p:\n",
    "        if letra.lower() in \"aeiou\":\n",
    "            print(letra, end=\" \")\n"
   ]
  }
 ],
 "metadata": {
  "kernelspec": {
   "display_name": "Python 3",
   "language": "python",
   "name": "python3"
  },
  "language_info": {
   "codemirror_mode": {
    "name": "ipython",
    "version": 3
   },
   "file_extension": ".py",
   "mimetype": "text/x-python",
   "name": "python",
   "nbconvert_exporter": "python",
   "pygments_lexer": "ipython3",
   "version": "3.12.2"
  }
 },
 "nbformat": 4,
 "nbformat_minor": 2
}
