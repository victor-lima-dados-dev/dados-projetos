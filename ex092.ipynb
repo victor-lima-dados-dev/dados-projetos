{
 "cells": [
  {
   "cell_type": "code",
   "execution_count": 5,
   "metadata": {},
   "outputs": [
    {
     "name": "stdout",
     "output_type": "stream",
     "text": [
      "----------------------------------------\n",
      " - nome tem o valor Sabrina\n",
      " - idade tem o valor 22\n",
      " - ctps tem o valor 12421\n",
      " - contratação tem o valor 2021\n",
      " - Salário tem o valor 1.4\n",
      " - Aposentadoria tem o valor 54\n"
     ]
    }
   ],
   "source": [
    "from datetime  import datetime\n",
    "tb = dict()\n",
    "tb['nome'] = str(input('Nome: '))\n",
    "nasc = int(input('Data de Nascimento: '))\n",
    "tb['idade'] = datetime.now().year - nasc\n",
    "tb['ctps'] = int(input('Carteira de Trabalho (0 não tem): '))    \n",
    "if tb['ctps'] != 0:\n",
    "    tb['contratação'] = int(input('Ano de Contração: '))\n",
    "    tb['Salário'] = float(input('Salário: '))\n",
    "    tb['Aposentadoria'] = tb['idade'] + ((tb['contratação'] + 35) - datetime.now().year)\n",
    "print('--'*20)\n",
    "for k, v in tb.items():\n",
    "    print(f' - {k} tem o valor {v}')"
   ]
  }
 ],
 "metadata": {
  "kernelspec": {
   "display_name": "Python 3",
   "language": "python",
   "name": "python3"
  },
  "language_info": {
   "codemirror_mode": {
    "name": "ipython",
    "version": 3
   },
   "file_extension": ".py",
   "mimetype": "text/x-python",
   "name": "python",
   "nbconvert_exporter": "python",
   "pygments_lexer": "ipython3",
   "version": "3.12.2"
  }
 },
 "nbformat": 4,
 "nbformat_minor": 2
}
