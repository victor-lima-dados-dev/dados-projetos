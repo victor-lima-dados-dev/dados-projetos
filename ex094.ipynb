{
 "cells": [
  {
   "cell_type": "code",
   "execution_count": 6,
   "metadata": {},
   "outputs": [
    {
     "name": "stdout",
     "output_type": "stream",
     "text": [
      "============================================================\n",
      "Ao todo temos 2 pessoas cadastradas.\n",
      "A média de idade é de  0.00 anos. \n",
      "As mulheres cadastradas foramLima\n",
      "Lista das pessoa sestão acima da média:   \n",
      "nome = Victorsexo = Midade = 23\n",
      "  \n",
      "nome = Limasexo = Fidade = 23\n",
      "<< ENCERRADO >>\n"
     ]
    }
   ],
   "source": [
    "pessoa = dict()\n",
    "galera = list()\n",
    "soma = média = 0\n",
    "while True: \n",
    "    pessoa.clear()\n",
    "    pessoa['nome'] = str(input('Nome: '))\n",
    "    while True:\n",
    "        pessoa['sexo'] = str(input('Sexo: [M/F]  ')).upper()[0]\n",
    "        if pessoa['sexo'] in 'MF':\n",
    "            break\n",
    "        print('ERRO! Por favor, digite apenas M ou F. ')\n",
    "    pessoa['idade'] = int(input('Idade: '))\n",
    "    galera.append(pessoa.copy())\n",
    "    while True:\n",
    "        resp = str(input('Quer continuar? [S/N] ')).upper()[0]\n",
    "        if resp in 'SN':\n",
    "            break\n",
    "        print('ERRO! Responda apenas S ou N. ')\n",
    "    if resp == 'N':\n",
    "        break\n",
    "print('=='*30)\n",
    "print(f'Ao todo temos {len(galera)} pessoas cadastradas.')\n",
    "média = soma/ len(galera)\n",
    "print(f'A média de idade é de {média:5.2f} anos. ')\n",
    "print('As mulheres cadastradas foram', end='')\n",
    "for p in galera:\n",
    "    if p['sexo'] in 'Ff':\n",
    "        print(f'{p[\"nome\"]}', end='')\n",
    "print()\n",
    "print('Lista das pessoas que estão acima da média: ', end='')\n",
    "for p in galera: \n",
    "    if p['idade'] >= média:\n",
    "        print('  ')\n",
    "        for k, v in p.items():\n",
    "            print(f'{k} = {v}', end='')\n",
    "        print()\n",
    "print('<< ENCERRADO >>')   "
   ]
  }
 ],
 "metadata": {
  "kernelspec": {
   "display_name": "Python 3",
   "language": "python",
   "name": "python3"
  },
  "language_info": {
   "codemirror_mode": {
    "name": "ipython",
    "version": 3
   },
   "file_extension": ".py",
   "mimetype": "text/x-python",
   "name": "python",
   "nbconvert_exporter": "python",
   "pygments_lexer": "ipython3",
   "version": "3.12.2"
  }
 },
 "nbformat": 4,
 "nbformat_minor": 2
}
