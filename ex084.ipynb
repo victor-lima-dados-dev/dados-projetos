{
 "cells": [
  {
   "cell_type": "code",
   "execution_count": 3,
   "metadata": {},
   "outputs": [
    {
     "name": "stdout",
     "output_type": "stream",
     "text": [
      "O total de cadastrados foram 3\n",
      "Os mais pesados são 34kg\n",
      "Os mais leves são 0kg\n"
     ]
    }
   ],
   "source": [
    "cd = list()  # cadastros\n",
    "cdt = list()  # total de cadastros\n",
    "pesom = peson = tot = 0\n",
    "for c in range(0, 3):\n",
    "    cd.append(str(input(\"Digite o nome: \")))\n",
    "    cd.append(int(input(\"Digite a idade: \")))\n",
    "    cd.append(float(input(\"Digite o peso: \")))\n",
    "    cdt.append(cd[:])\n",
    "    cd.clear()\n",
    "for n in cdt:\n",
    "    if len(n) == 0:\n",
    "        pesom = peson = n[1]\n",
    "    else:\n",
    "        if float(n[1]) > pesom:\n",
    "            pesom = n[1]\n",
    "        if float(n[1]) < peson:\n",
    "            peson = n[1]\n",
    "print(f\"O total de cadastrados foram {len(cdt[0])}\")\n",
    "print(f\"Os mais pesados são {pesom}kg\")\n",
    "print(f\"Os mais leves são {peson}kg\")\n"
   ]
  }
 ],
 "metadata": {
  "kernelspec": {
   "display_name": "Python 3",
   "language": "python",
   "name": "python3"
  },
  "language_info": {
   "codemirror_mode": {
    "name": "ipython",
    "version": 3
   },
   "file_extension": ".py",
   "mimetype": "text/x-python",
   "name": "python",
   "nbconvert_exporter": "python",
   "pygments_lexer": "ipython3",
   "version": "3.12.2"
  }
 },
 "nbformat": 4,
 "nbformat_minor": 2
}
