{
 "cells": [
  {
   "cell_type": "code",
   "execution_count": 6,
   "metadata": {},
   "outputs": [
    {
     "name": "stdout",
     "output_type": "stream",
     "text": [
      "------------------------------------------------------------\n",
      "                     LISTAGEM DE PREÇOS                     \n",
      "------------------------------------------------------------\n",
      "Lápis.........................R$    1.75\n",
      "Borracha......................R$    2.50\n",
      "Caderno.......................R$   15.90\n",
      "Estojo........................R$   25.00\n",
      "Transferidor..................R$    4.20\n",
      "Compasso......................R$    9.90\n",
      "Mochila.......................R$  120.32\n",
      "Canetas.......................R$   22.30\n",
      "Livro.........................R$   34.90\n",
      "============================================================\n"
     ]
    }
   ],
   "source": [
    "listagem = (\n",
    "    'Lápis', 1.75,\n",
    "    'Borracha', 2.50,\n",
    "    'Caderno', 15.90,\n",
    "    'Estojo', 25,\n",
    "    'Transferidor', 4.20,\n",
    "    'Compasso', 9.90,\n",
    "    'Mochila', 120.32,\n",
    "    'Canetas', 22.30,\n",
    "    'Livro', 34.90\n",
    "            )\n",
    "print('--'*30)\n",
    "print(f'{'LISTAGEM DE PREÇOS':^60}')\n",
    "print('--'*30)\n",
    "for pos in range(0, len(listagem)):\n",
    "    if pos % 2 == 0:\n",
    "        print(f'{listagem[pos]:.<30}', end='')\n",
    "    else:\n",
    "        print(f'R$ {listagem[pos]:>7.2f}')\n",
    "print('=='*30)\n"
   ]
  }
 ],
 "metadata": {
  "kernelspec": {
   "display_name": "Python 3",
   "language": "python",
   "name": "python3"
  },
  "language_info": {
   "codemirror_mode": {
    "name": "ipython",
    "version": 3
   },
   "file_extension": ".py",
   "mimetype": "text/x-python",
   "name": "python",
   "nbconvert_exporter": "python",
   "pygments_lexer": "ipython3",
   "version": "3.12.2"
  }
 },
 "nbformat": 4,
 "nbformat_minor": 2
}
