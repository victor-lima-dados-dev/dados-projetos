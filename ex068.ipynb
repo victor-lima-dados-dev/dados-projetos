{
 "cells": [
  {
   "cell_type": "code",
   "execution_count": null,
   "metadata": {},
   "outputs": [],
   "source": [
    "from random import randint\n",
    "\n",
    "v = 0\n",
    "while True:\n",
    "    try:\n",
    "        gamer = int(input(\"Diga um valor: \"))\n",
    "    except ValueError:\n",
    "        print(\"Valor inválido. Por favor, digite um número inteiro.\")\n",
    "        continue\n",
    "    comp = randint(0, 10)\n",
    "    total = gamer + comp\n",
    "    type = \" \"\n",
    "    while type not in \"PI\":\n",
    "        type = str(input(\"Par ou Impár? \")).strip().upper()[0]\n",
    "    print(f\"Você jogou {gamer} e o computador {comp}. Total de {total}\", enc=\"\")\n",
    "    if type == \"P\":\n",
    "        if total % 2 == 0:\n",
    "            print(\"Você VENCEU!\")\n",
    "            v += 1\n",
    "        else:\n",
    "            print(\"Você PERDEU!\")\n",
    "            break\n",
    "    elif type == \"I\":\n",
    "        if total % 2 == 1:\n",
    "            print(\"Você VENCEU!\")\n",
    "            v += 1\n",
    "        else:\n",
    "            print(\"Você PERDEU!\")\n",
    "            break\n",
    "    print(\"Vamos jogar novamente...\")\n",
    "print(f\"GAMEOVER! Você venceu {v} vezes.\")\n"
   ]
  }
 ],
 "metadata": {
  "kernelspec": {
   "display_name": "Python 3",
   "language": "python",
   "name": "python3"
  },
  "language_info": {
   "codemirror_mode": {
    "name": "ipython",
    "version": 3
   },
   "file_extension": ".py",
   "mimetype": "text/x-python",
   "name": "python",
   "nbconvert_exporter": "python",
   "pygments_lexer": "ipython3",
   "version": "3.12.2"
  }
 },
 "nbformat": 4,
 "nbformat_minor": 2
}
