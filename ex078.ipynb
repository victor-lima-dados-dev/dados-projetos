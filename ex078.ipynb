{
 "cells": [
  {
   "cell_type": "code",
   "execution_count": 12,
   "metadata": {},
   "outputs": [
    {
     "name": "stdout",
     "output_type": "stream",
     "text": [
      "================================================================================\n",
      "Você digitou os valores [0, 5, 9, 5, 5]\n",
      "O maior valor digitado foi 9\n",
      "2... \n",
      "O menor valor digitdo foi 0\n",
      "0... \n"
     ]
    }
   ],
   "source": [
    "lista = []\n",
    "mai = 0\n",
    "men = 0\n",
    "for n in range(0, 5):\n",
    "    lista.append(int(input(f\"Digite um valor para a posição {n}\")))\n",
    "    if n == 0:\n",
    "        mai = men = lista[n]\n",
    "    else:\n",
    "        if lista[n] > mai:\n",
    "            mai = lista[n]\n",
    "        if lista[n] < men:\n",
    "            men = lista[n]\n",
    "\n",
    "\n",
    "print(\"==\" * 40)\n",
    "print(f\"Você digitou os valores {lista}\")\n",
    "print(f\"O maior valor digitado foi {mai}\")\n",
    "for i, v in enumerate(lista):\n",
    "    if v == mai:\n",
    "        print(f\"{i}...\", end=\" \")\n",
    "print()\n",
    "print(f\"O menor valor digitdo foi {men}\")\n",
    "for i, v in enumerate(lista):\n",
    "    if v == men:\n",
    "        print(f\"{i}...\", end=\" \")\n",
    "print()\n"
   ]
  },
  {
   "cell_type": "code",
   "execution_count": null,
   "metadata": {},
   "outputs": [],
   "source": []
  }
 ],
 "metadata": {
  "kernelspec": {
   "display_name": "Python 3",
   "language": "python",
   "name": "python3"
  },
  "language_info": {
   "codemirror_mode": {
    "name": "ipython",
    "version": 3
   },
   "file_extension": ".py",
   "mimetype": "text/x-python",
   "name": "python",
   "nbconvert_exporter": "python",
   "pygments_lexer": "ipython3",
   "version": "3.12.2"
  }
 },
 "nbformat": 4,
 "nbformat_minor": 2
}
