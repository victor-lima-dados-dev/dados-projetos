{
 "cells": [
  {
   "cell_type": "code",
   "execution_count": null,
   "metadata": {},
   "outputs": [],
   "source": [
    "matriz = [[0, 0, 0], [0, 0, 0], [0, 0, 0]]\n",
    "spar = mai = scol = 0\n",
    "for l in range(0, 3):\n",
    "    for c in range(0, 3):\n",
    "        matriz[l][c] = int(input(f\"Digite um valor para [{l}, {c}]: \"))\n",
    "print(\"=-\" * 40)\n",
    "for l in range(0, 3):\n",
    "    for c in range(0, 3):\n",
    "        print(f\"[{matriz[l][c]:^5}]\", end=\"\")\n",
    "        if matriz[l][c] % 2 == 0:\n",
    "            spar += matriz[l][c]\n",
    "    print()\n",
    "print(\"=-\" * 30)\n",
    "print(f\"A soma dos valores pares é {spar}\")\n",
    "for l in range(0, 3):\n",
    "    scol += matriz[l][2]\n",
    "print(f\"A soma da terceira coluna é : {scol}\")\n",
    "for c in range(0, 3):\n",
    "    if c == 0:\n",
    "        mai = matriz[1][c]\n",
    "    elif matriz[1][c] > mai:\n",
    "        mai = matriz[1][c]\n",
    "print(f\"O maior valor da segunda linha é {mai}\")\n"
   ]
  }
 ],
 "metadata": {
  "language_info": {
   "name": "python"
  }
 },
 "nbformat": 4,
 "nbformat_minor": 2
}
