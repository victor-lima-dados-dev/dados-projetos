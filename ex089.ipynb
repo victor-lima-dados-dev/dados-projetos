{
 "cells": [
  {
   "cell_type": "code",
   "execution_count": 4,
   "metadata": {},
   "outputs": [
    {
     "name": "stdout",
     "output_type": "stream",
     "text": [
      "========================================\n",
      "No. Nome         Média\n",
      "========================================\n",
      "0   Lucas          2.5\n",
      "1   Lima           6.8\n",
      "2   Unlisses       6.3\n",
      "----------------------------------------\n",
      "Notas de Unlisses são[5.0, 7.7]\n",
      "----------------------------------------\n",
      "Notas de Lima são[9.0, 4.5]\n",
      "----------------------------------------\n",
      "Notas de Lucas são[1.0, 4.0]\n",
      "----------------------------------------\n",
      "Finalizado...\n",
      "<<< Volte Sempre >>>\n"
     ]
    }
   ],
   "source": [
    "ficha = list()\n",
    "while True:\n",
    "    nome = str(input('Nome: '))\n",
    "    nota1 = float(input('Nota1: '))\n",
    "    nota2 = float(input('Nota2: '))\n",
    "    media = (nota1 + nota2) /2\n",
    "    ficha.append([nome, [nota1, nota2], media])\n",
    "    resp = str(input('Quer continuar? [S/N]  '))\n",
    "    if resp in 'Nn':\n",
    "        break\n",
    "print('=='*20)\n",
    "print(f'{'No.':<4}{'Nome':<10}{'Média':>8}')\n",
    "print('=='*20)\n",
    "for i, a in enumerate(ficha):\n",
    "    print(f'{i:<4}{a[0]:<10}{a[2]:>8.1f}')\n",
    "while True:\n",
    "    print('--'*20)\n",
    "    opc = int(input('Mostrar nota de qual aluno? (999 interrompe): '))\n",
    "    if opc == 999:\n",
    "        print('Finalizado...')\n",
    "        break\n",
    "    if opc <= len(ficha) - 1:\n",
    "        print(f'Notas de {ficha[opc][0]} são{ficha[opc][1]}')\n",
    "print('<<< Volte Sempre >>>')\n"
   ]
  }
 ],
 "metadata": {
  "kernelspec": {
   "display_name": "Python 3",
   "language": "python",
   "name": "python3"
  },
  "language_info": {
   "codemirror_mode": {
    "name": "ipython",
    "version": 3
   },
   "file_extension": ".py",
   "mimetype": "text/x-python",
   "name": "python",
   "nbconvert_exporter": "python",
   "pygments_lexer": "ipython3",
   "version": "3.12.2"
  }
 },
 "nbformat": 4,
 "nbformat_minor": 2
}
