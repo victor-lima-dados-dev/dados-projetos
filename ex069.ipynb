{
 "cells": [
  {
   "cell_type": "code",
   "execution_count": 4,
   "metadata": {},
   "outputs": [
    {
     "name": "stdout",
     "output_type": "stream",
     "text": [
      "------------------------\n",
      "CADASTRE UMA PESSOA\n",
      "------------------------\n",
      "------------------------\n",
      "------------------------\n",
      "CADASTRE UMA PESSOA\n",
      "------------------------\n",
      "------------------------\n",
      "------------------------\n",
      "CADASTRE UMA PESSOA\n",
      "------------------------\n",
      "------------------------\n",
      "------------------------\n",
      "CADASTRE UMA PESSOA\n",
      "------------------------\n",
      "------------------------\n",
      "------------------------\n",
      "CADASTRE UMA PESSOA\n",
      "------------------------\n",
      "------------------------\n",
      "Total de pessoas com mais de 18 anos: 2 .\n",
      "Existem 4 homens cadastrados.\n",
      "Existes 1 mulheres com menos de 20 anos.\n"
     ]
    }
   ],
   "source": [
    "tot18 = 0\n",
    "totm = 0\n",
    "totf = 0\n",
    "while True:\n",
    "    print(\"--\" * 12)\n",
    "    print(\"CADASTRE UMA PESSOA\")\n",
    "    print(\"--\" * 12)\n",
    "    id = int(input(\"Idade: \"))\n",
    "    if id >= 18:\n",
    "        tot18 += 1\n",
    "    sx = str(input(\"Sexo: [M/F]: \")).strip().upper()[0]\n",
    "    print(\"--\" * 12)\n",
    "    if sx == \"M\":\n",
    "        totm += 1\n",
    "    if sx == \"F\" or sx <= \"20\":\n",
    "        totf += 1\n",
    "    sq = str(input(\"Quer continuar? [S/N]: \")).strip().upper()[0]\n",
    "    if sq == \"N\":\n",
    "        break\n",
    "print(f\"Total de pessoas com mais de 18 anos: {tot18} .\")\n",
    "print(f\"Existem {totm} homens cadastrados.\")\n",
    "print(f\"Existem {totf} mulheres com menos de 20 anos.\")\n"
   ]
  }
 ],
 "metadata": {
  "kernelspec": {
   "display_name": "Python 3",
   "language": "python",
   "name": "python3"
  },
  "language_info": {
   "codemirror_mode": {
    "name": "ipython",
    "version": 3
   },
   "file_extension": ".py",
   "mimetype": "text/x-python",
   "name": "python",
   "nbconvert_exporter": "python",
   "pygments_lexer": "ipython3",
   "version": "3.12.2"
  }
 },
 "nbformat": 4,
 "nbformat_minor": 2
}
