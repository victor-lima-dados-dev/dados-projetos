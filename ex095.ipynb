{
 "cells": [
  {
   "cell_type": "code",
   "execution_count": 4,
   "metadata": {},
   "outputs": [
    {
     "name": "stdout",
     "output_type": "stream",
     "text": [
      "------------------------------------------------------------\n",
      "codnome           gols           total          \n",
      "------------------------------\n",
      "  0Lima           [3, 4]         7              \n",
      "  1Joao           [9, 4]         13             \n",
      "------------------------------------------------------------\n",
      "-- LEVANTAMENTO DO JOGADOR Joao:\n",
      " No jogo 1 fez 9 gols\n",
      " No jogo 2 fez 4 gols\n",
      "----------------------------------------\n",
      "<< VOLTE SEMPRE >>\n"
     ]
    }
   ],
   "source": [
    "time = list()\n",
    "jogador = dict()\n",
    "partidas = list()\n",
    "\n",
    "while True:\n",
    "    jogador.clear()\n",
    "    jogador['nome'] = str(input('Nome do Jogador: '))\n",
    "    tot = int(input(f'Quantas partidas {jogador[\"nome\"]} jogou? '))\n",
    "    partidas.clear()\n",
    "    for c in range(0, tot):\n",
    "        partidas.append(int(input(f' Quantos gols na partida {c}? ')))\n",
    "    jogador['gols'] = partidas[:]\n",
    "    jogador['total'] = sum(partidas)\n",
    "    time.append(jogador.copy())\n",
    "    while True:\n",
    "        resp = str(input('Quer continuar?  [S/N] '))\n",
    "        if resp in 'SN':\n",
    "            break\n",
    "        print('ERRO! Responda apenas S ou N.')\n",
    "    if resp == 'N':\n",
    "        break    \n",
    "\n",
    "print('--'*30)\n",
    "print('cod', end='')\n",
    "for i in jogador.keys():\n",
    "    print(f'{i:<15}', end='')\n",
    "print()\n",
    "print('-' * 30)\n",
    "for k, v in enumerate(time):\n",
    "    print(f'{k:>3}', end='')\n",
    "    for d in v.values():\n",
    "        print(f'{str(d):<15}', end='')\n",
    "    print()\n",
    "print('--'*30)\n",
    "\n",
    "while True: \n",
    "    busca = int(input('Mostrar dados de qual jogador? (999 para parar!)'))\n",
    "    if busca == 999:\n",
    "        break\n",
    "    if busca >= len(time):\n",
    "        print(f'ERRO! Não existe jogador com código {busca}! ')\n",
    "    else: \n",
    "        print(f'-- LEVANTAMENTO DO JOGADOR {time[busca][\"nome\"]}:')\n",
    "        for i, g in enumerate(time [busca] ['gols']):\n",
    "            print(f' No jogo {i+1} fez {g} gols')\n",
    "print('--'*20)\n",
    "print('<< VOLTE SEMPRE >>')"
   ]
  }
 ],
 "metadata": {
  "kernelspec": {
   "display_name": "Python 3",
   "language": "python",
   "name": "python3"
  },
  "language_info": {
   "codemirror_mode": {
    "name": "ipython",
    "version": 3
   },
   "file_extension": ".py",
   "mimetype": "text/x-python",
   "name": "python",
   "nbconvert_exporter": "python",
   "pygments_lexer": "ipython3",
   "version": "3.12.2"
  }
 },
 "nbformat": 4,
 "nbformat_minor": 2
}
