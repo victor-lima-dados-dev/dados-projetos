{
 "cells": [
  {
   "cell_type": "code",
   "execution_count": 5,
   "metadata": {},
   "outputs": [
    {
     "name": "stdout",
     "output_type": "stream",
     "text": [
      "Lista de times do Brasileirão: ('Corinthias', 'Palmeiras', 'Santos', 'Grêmio', 'Vasco', 'Chapecoense', 'Cruzeiro', 'Coritiba', 'Avaí', 'Ponte Preta', 'Atletico-GO', 'Bahia')\n",
      "-=-=-=-=-=-=-=-=-=-=-=-=-=-=-=-=-=-=-=-=-=-=-=-=-=-=-=-=-=-=-=-=-=-=-=-=-=-=-=-=-=-=-=-=-=-=-=-=-=-=-=-=-=-=-=-=-=-=-=-=\n",
      "Os 5 primeiros são: ('Corinthias', 'Palmeiras', 'Santos', 'Grêmio', 'Vasco')\n",
      "-=-=-=-=-=-=-=-=-=-=-=-=-=-=-=-=-=-=-=-=-=-=-=-=-=-=-=-=-=-=-=-=-=-=-=-=-=-=-=-=-=-=-=-=-=-=-=-=-=-=-=-=-=-=-=-=-=-=-=-=\n",
      "Os 4 últimos são: ('Avaí', 'Ponte Preta', 'Atletico-GO', 'Bahia')\n",
      "-=-=-=-=-=-=-=-=-=-=-=-=-=-=-=-=-=-=-=-=-=-=-=-=-=-=-=-=-=-=-=-=-=-=-=-=-=-=-=-=-=-=-=-=-=-=-=-=-=-=-=-=-=-=-=-=-=-=-=-=\n",
      "Times em ordem alfabética: ['Atletico-GO', 'Avaí', 'Bahia', 'Chapecoense', 'Corinthias', 'Coritiba', 'Cruzeiro', 'Grêmio', 'Palmeiras', 'Ponte Preta', 'Santos', 'Vasco']\n",
      "O Chapecoense está na 6ª posição\n"
     ]
    }
   ],
   "source": [
    "times = (\n",
    "    \"Corinthias\",\n",
    "    \"Palmeiras\",\n",
    "    \"Santos\",\n",
    "    \"Grêmio\",\n",
    "    \"Vasco\",\n",
    "    \"Chapecoense\",\n",
    "    \"Cruzeiro\",\n",
    "    \"Coritiba\",\n",
    "    \"Avaí\",\n",
    "    \"Ponte Preta\",\n",
    "    \"Atletico-GO\",\n",
    "    \"Bahia\"\n",
    ")\n",
    "print(f\"Lista de times do Brasileirão: {times}\")\n",
    "print(\"-=\" * 60)\n",
    "print(f\"Os 5 primeiros são: {times[0:5]}\")\n",
    "print(\"-=\" * 60)\n",
    "print(f\"Os 4 últimos são: {times[-4:]}\")\n",
    "print(\"-=\" * 60)\n",
    "print(f\"Times em ordem alfabética: {sorted(times)}\")\n",
    "print(f'O Chapecoense está na {times.index('Chapecoense')+1}ª posição')\n"
   ]
  }
 ],
 "metadata": {
  "kernelspec": {
   "display_name": "Python 3",
   "language": "python",
   "name": "python3"
  },
  "language_info": {
   "codemirror_mode": {
    "name": "ipython",
    "version": 3
   },
   "file_extension": ".py",
   "mimetype": "text/x-python",
   "name": "python",
   "nbconvert_exporter": "python",
   "pygments_lexer": "ipython3",
   "version": "3.12.2"
  }
 },
 "nbformat": 4,
 "nbformat_minor": 2
}
