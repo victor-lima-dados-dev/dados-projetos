{
 "cells": [
  {
   "cell_type": "code",
   "execution_count": 8,
   "metadata": {},
   "outputs": [
    {
     "name": "stdout",
     "output_type": "stream",
     "text": [
      "Você digitou os números (1, 2, 3, 4)\n",
      "O valor 9 apareceu 0 vezes\n",
      "O valor 3 apareceu na 3ª posiçao\n",
      "Os valores pares digitados foram 2 4 "
     ]
    }
   ],
   "source": [
    "num = (\n",
    "    int(input(\"Digite um número: \")),\n",
    "    int(input(\"Digite outro número: \")),\n",
    "    int(input(\"Digite o terceiro número: \")),\n",
    "    int(input(\"Digite um último número: \")),\n",
    ")\n",
    "\n",
    "print(f\"Você digitou os números {(num)}\")\n",
    "print(f\"O valor 9 apareceu {num.count(9)} vezes\")\n",
    "if 3 in num:\n",
    "    print(f\"O valor 3 apareceu na {num.index(3)+1}ª posiçao\")\n",
    "else:\n",
    "    print(\"O valor 3 não foi digitado em nenhuma posição\")\n",
    "print(\"Os valores pares digitados foram\", end=\" \")\n",
    "for n in num:\n",
    "    if n % 2 == 0:\n",
    "        print(n, end=\" \")\n"
   ]
  }
 ],
 "metadata": {
  "kernelspec": {
   "display_name": "Python 3",
   "language": "python",
   "name": "python3"
  },
  "language_info": {
   "codemirror_mode": {
    "name": "ipython",
    "version": 3
   },
   "file_extension": ".py",
   "mimetype": "text/x-python",
   "name": "python",
   "nbconvert_exporter": "python",
   "pygments_lexer": "ipython3",
   "version": "3.12.2"
  }
 },
 "nbformat": 4,
 "nbformat_minor": 2
}
