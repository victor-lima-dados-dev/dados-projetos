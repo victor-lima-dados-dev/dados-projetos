{
 "cells": [
  {
   "cell_type": "code",
   "execution_count": 14,
   "metadata": {},
   "outputs": [
    {
     "name": "stdout",
     "output_type": "stream",
     "text": [
      "================================================================================\n",
      "Você digitou 5 elementos\n",
      "Os valores em ordem descrescente são [7, 5, 3, 2, 1]\n",
      "O valor 5 faz parte da lista!\n"
     ]
    }
   ],
   "source": [
    "num = []\n",
    "while True:\n",
    "    num.append(int(input(\"Digite um valor: \")))\n",
    "    r = str(input(\"Quer continuar? [S/N] \")).strip().upper()[0]\n",
    "    if r in \"Nn\":\n",
    "        break\n",
    "print(\"==\" * 40)\n",
    "print(f\"Você digitou {len(num)} elementos\")\n",
    "num.sort(reverse=True)\n",
    "print(f\"Os valores em ordem descrescente são {num}\")\n",
    "if 5 in num:\n",
    "    print(\"O valor 5 faz parte da lista!\")\n",
    "else:\n",
    "    print(\"O valor 5 não está na lista\")\n"
   ]
  },
  {
   "cell_type": "code",
   "execution_count": 15,
   "metadata": {},
   "outputs": [
    {
     "name": "stdout",
     "output_type": "stream",
     "text": [
      "--------------------------------------------------------------------------------\n",
      "Os valores digitados foram 1\n",
      "Os valores de forma descresente são: [1]\n",
      " O valor 5 não está na lista\n"
     ]
    },
    {
     "ename": "",
     "evalue": "",
     "output_type": "error",
     "traceback": [
      "\u001b[1;31mO Kernel deu pane ao executar o código na célula atual ou em uma célula anterior. \n",
      "\u001b[1;31mAnalise o código nas células para identificar uma possível causa da pane. \n",
      "\u001b[1;31mClique <a href='https://aka.ms/vscodeJupyterKernelCrash'>aqui</a> para obter mais informações. \n",
      "\u001b[1;31mConsulte Jupyter <a href='command:jupyter.viewOutput'>log</a> para obter mais detalhes."
     ]
    }
   ],
   "source": [
    "lista = []\n",
    "while True:\n",
    "    lista.append(int(input(\"Digite um valor: \")))\n",
    "    r = str(input(\"Quer continuar? [S/N]\"))\n",
    "    if r in \"Nn\":\n",
    "        break\n",
    "print(\"--\" * 40)\n",
    "print(f\"Os valores digitados foram {len(lista)}\")\n",
    "lista.sort(reverse=True)\n",
    "print(f\"Os valores de forma descresente são: {lista}\")\n",
    "if 5 in lista:\n",
    "    print(\"O valor 5 está na lista\")\n",
    "else:\n",
    "    print(\"O valor 5 não está na lista\")\n"
   ]
  }
 ],
 "metadata": {
  "kernelspec": {
   "display_name": "Python 3",
   "language": "python",
   "name": "python3"
  },
  "language_info": {
   "codemirror_mode": {
    "name": "ipython",
    "version": 3
   },
   "file_extension": ".py",
   "mimetype": "text/x-python",
   "name": "python",
   "nbconvert_exporter": "python",
   "pygments_lexer": "ipython3",
   "version": "3.12.2"
  }
 },
 "nbformat": 4,
 "nbformat_minor": 2
}
