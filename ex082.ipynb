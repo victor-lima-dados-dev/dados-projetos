{
 "cells": [
  {
   "cell_type": "code",
   "execution_count": 2,
   "metadata": {},
   "outputs": [
    {
     "name": "stdout",
     "output_type": "stream",
     "text": [
      "================================================================================\n",
      "A lista completa é [2, 5, 2, 6, 4]\n",
      "A lista de pares é [2, 2, 6, 4]\n",
      "A lista de ímpares é [5]\n"
     ]
    }
   ],
   "source": [
    "lista = list()\n",
    "pares = list()\n",
    "ímpares = list()\n",
    "while True:\n",
    "    lista.append(int(input(\"Digite um número: \")))\n",
    "    r = str(input(\"Quer continuar? [S/N]\"))\n",
    "    if r in \"Nn\":\n",
    "        break\n",
    "for i, v in enumerate(lista):\n",
    "    if v % 2 == 0:\n",
    "        pares.append(v)\n",
    "    elif v % 2 == 1:\n",
    "        ímpares.append(v)\n",
    "print(\"==\" * 40)\n",
    "print(f\"A lista completa é {lista}\")\n",
    "print(f\"A lista de pares é {pares}\")\n",
    "print(f\"A lista de ímpares é {ímpares}\")\n"
   ]
  },
  {
   "cell_type": "code",
   "execution_count": 4,
   "metadata": {},
   "outputs": [
    {
     "name": "stdout",
     "output_type": "stream",
     "text": [
      "================================================================================\n",
      "Valores da lista [1, 4, 2, 5, 3, 7]\n",
      "Os valores pares [2, 2, 6, 4, 4, 2]\n",
      "Os valores ímpares [5, 1, 5, 3, 7]\n"
     ]
    },
    {
     "ename": "",
     "evalue": "",
     "output_type": "error",
     "traceback": [
      "\u001b[1;31mO Kernel deu pane ao executar o código na célula atual ou em uma célula anterior. \n",
      "\u001b[1;31mAnalise o código nas células para identificar uma possível causa da pane. \n",
      "\u001b[1;31mClique <a href='https://aka.ms/vscodeJupyterKernelCrash'>aqui</a> para obter mais informações. \n",
      "\u001b[1;31mConsulte Jupyter <a href='command:jupyter.viewOutput'>log</a> para obter mais detalhes."
     ]
    }
   ],
   "source": [
    "lista = list()\n",
    "while True:\n",
    "    lista.append(int(input(\"Digite um número:\")))\n",
    "    resp = str(input(\"Quer continuar? [S/N]\"))\n",
    "    if resp in \"Nn\":\n",
    "        break\n",
    "for i, v in enumerate(lista):\n",
    "    if v % 2 == 0:\n",
    "        pares.append(v)\n",
    "    elif v % 2 == 1:\n",
    "        ímpares.append(v)\n",
    "print(\"==\" * 40)\n",
    "print(f\"Valores da lista {lista}\")\n",
    "print(f\"Os valores pares {pares}\")\n",
    "print(f\"Os valores ímpares {ímpares}\")\n"
   ]
  }
 ],
 "metadata": {
  "kernelspec": {
   "display_name": "Python 3",
   "language": "python",
   "name": "python3"
  },
  "language_info": {
   "codemirror_mode": {
    "name": "ipython",
    "version": 3
   },
   "file_extension": ".py",
   "mimetype": "text/x-python",
   "name": "python",
   "nbconvert_exporter": "python",
   "pygments_lexer": "ipython3",
   "version": "3.12.2"
  }
 },
 "nbformat": 4,
 "nbformat_minor": 2
}
